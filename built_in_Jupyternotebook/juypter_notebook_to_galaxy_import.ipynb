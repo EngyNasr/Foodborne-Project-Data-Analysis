{
 "cells": [
  {
   "cell_type": "markdown",
   "metadata": {},
   "source": [
    "# Welcome to the interactive Galaxy IPython Notebook."
   ]
  },
  {
   "cell_type": "markdown",
   "metadata": {},
   "source": [
    "You can access your data via the dataset number. Using a Python kernel, you can access dataset number 42 with ``handle = open(get(42), 'r')``.\n",
    "To save data, write your data to a file, and then call ``put('filename.txt')``. The dataset will then be available in your galaxy history.\n",
    "<br>When using a non-Python kernel, ``get`` and ``put`` are available as command-line tools, which can be accessed using system calls in R, Julia, and Ruby. For example, to read dataset number 42 into R, you can write ```handle <- file(system('get -i 42', intern = TRUE))```.\n",
    "To save data in R, write the data to a file and then call ``system('put -p filename.txt')``.\n",
    "Notebooks can be saved to Galaxy by clicking the large green button at the top right of the IPython interface.<br>\n",
    "More help and informations can be found on the project [website](https://github.com/bgruening/docker-jupyter-notebook)."
   ]
  },
  {
   "cell_type": "markdown",
   "metadata": {},
   "source": [
    "# Imports"
   ]
  },
  {
   "cell_type": "code",
   "execution_count": 1,
   "metadata": {
    "collapsed": false,
    "jupyter": {
     "outputs_hidden": false
    }
   },
   "outputs": [
    {
     "name": "stderr",
     "output_type": "stream",
     "text": [
      "WARNING: pip is being invoked by an old script wrapper. This will fail in a future version of pip.\n",
      "Please see https://github.com/pypa/pip/issues/5599 for advice on fixing the underlying issue.\n",
      "To avoid this problem you can invoke Python with '-m pip' instead of running pip directly.\n"
     ]
    },
    {
     "data": {
      "text/html": [
       "<pre style=\"white-space:pre;overflow-x:auto;line-height:normal;font-family:Menlo,'DejaVu Sans Mono',consolas,'Courier New',monospace\">Requirement already satisfied: openpyxl in /home/engynasr/anaconda3/lib/python3.11/site-packages (3.0.10)\n",
       "</pre>\n"
      ],
      "text/plain": [
       "Requirement already satisfied: openpyxl in /home/engynasr/anaconda3/lib/python3.11/site-packages (3.0.10)\n"
      ]
     },
     "metadata": {},
     "output_type": "display_data"
    },
    {
     "data": {
      "text/html": [
       "<pre style=\"white-space:pre;overflow-x:auto;line-height:normal;font-family:Menlo,'DejaVu Sans Mono',consolas,'Courier New',monospace\">Requirement already satisfied: et_xmlfile in /home/engynasr/anaconda3/lib/python3.11/site-packages (from openpyxl) (1.1.0)\n",
       "</pre>\n"
      ],
      "text/plain": [
       "Requirement already satisfied: et_xmlfile in /home/engynasr/anaconda3/lib/python3.11/site-packages (from openpyxl) (1.1.0)\n"
      ]
     },
     "metadata": {},
     "output_type": "display_data"
    },
    {
     "data": {
      "text/plain": [
       "0"
      ]
     },
     "execution_count": 1,
     "metadata": {},
     "output_type": "execute_result"
    }
   ],
   "source": [
    "from bioblend.galaxy import GalaxyInstance\n",
    "import pandas as pd\n",
    "from io import StringIO\n",
    "import os\n",
    "import requests\n",
    "import pip\n",
    "import matplotlib.pyplot as plt\n",
    "pip.main([\"install\", \"openpyxl\"])"
   ]
  },
  {
   "cell_type": "markdown",
   "metadata": {},
   "source": [
    "# Reading Galaxy_Input tabulars to dataframes"
   ]
  },
  {
   "cell_type": "code",
   "execution_count": null,
   "metadata": {},
   "outputs": [],
   "source": [
    "vfs_amrs_counts_db = pd.read_table('galaxy_inputs/vfandamrcounts/vfs_amrs_count_table.tabular')\n",
    "vfs_amrs_counts_db.set_index(\"key\", inplace=True)\n",
    "metadata_db = pd.read_table('galaxy_inputs/metadata/metadata.tabular')\n",
    "metadata_db.set_index(\"Galaxy ID\", inplace=True)\n",
    "metadata_db.index.name = \"key\"\n",
    "hosts_db = pd.read_table('galaxy_inputs/hostremovedcount/removed_hosts_percentage_tabular.tabular')\n",
    "hosts_db.set_index(\"key\", inplace=True)\n",
    "heatmap_db = pd.read_table('galaxy_inputs/heatmap/heatmap_table.tabular')\n",
    "heatmap_db.set_index(\"key\", inplace=True)"
   ]
  },
  {
   "cell_type": "markdown",
   "metadata": {},
   "source": [
    "# Mapping VFs and AMRs count to the Metadata Tabular"
   ]
  },
  {
   "cell_type": "code",
   "execution_count": null,
   "metadata": {},
   "outputs": [],
   "source": [
    "frames = [vfs_amrs_counts_db, hosts_db ,metadata_db]\n",
    "result = pd.concat(frames, axis = 1)\n",
    "print(result)"
   ]
  },
  {
   "cell_type": "markdown",
   "metadata": {},
   "source": [
    "# Plots"
   ]
  },
  {
   "cell_type": "code",
   "execution_count": 5,
   "metadata": {},
   "outputs": [],
   "source": [
    "outpath = \"outputs\""
   ]
  },
  {
   "cell_type": "markdown",
   "metadata": {},
   "source": [
    "## Bar Plot VFs/AMRs count vs. Enrichment"
   ]
  },
  {
   "cell_type": "code",
   "execution_count": null,
   "metadata": {},
   "outputs": [],
   "source": [
    "import matplotlib.pyplot as plt\n",
    "import numpy as np\n",
    "\n",
    "selection = result[(result[\"amrs_count\"] != 0) | (result[\"vfs_count\"] != 0)]\n",
    "selection = selection.dropna(subset = [\"amrs_count\",\"vfs_count\"])\n",
    "\n",
    "selection.set_index([\"Enrichment\"], drop=True, inplace = True)\n",
    "selection.plot( kind = \"bar\",\n",
    "                y = [\"amrs_count\",\"vfs_count\"], \n",
    "                figsize=(10,6), \n",
    "                )\n",
    "plt.savefig(os.path.join(outpath, \"bar_plot_vfs_amrs_counts_vs_enrichment.svg\"))\n",
    "plt.savefig(os.path.join(outpath, \"bar_plot_vfs_amrs_counts_vs_enrichment.png\"))\n",
    "plt.show()"
   ]
  },
  {
   "cell_type": "markdown",
   "metadata": {},
   "source": [
    "## Percentages of removed QC hosts reads vs Sample information"
   ]
  },
  {
   "cell_type": "code",
   "execution_count": null,
   "metadata": {},
   "outputs": [],
   "source": [
    "import numpy as np\n",
    "import seaborn as sns\n",
    "\n",
    "\n",
    "ax = sns.barplot(data=result, x=\"removed_hosts_percentage\", y=\"Information\")\n",
    "ax.set_ylabel(\"Samples Informtion\")\n",
    "ax.set_xlabel(\"Reomoved QC Hosts Reads %\")\n",
    "plt.xticks(rotation=30, horizontalalignment=\"center\")\n",
    "plt.savefig(os.path.join(outpath, \"removed_hosts_percentages_per_sample.svg\"))\n",
    "plt.savefig(os.path.join(outpath, \"removed_hosts_percentages_per_sample.png\"))\n",
    "plt.show()"
   ]
  },
  {
   "cell_type": "markdown",
   "metadata": {},
   "source": [
    "## Number of QC all reads vs samples information"
   ]
  },
  {
   "cell_type": "code",
   "execution_count": null,
   "metadata": {},
   "outputs": [],
   "source": [
    "ax = sns.barplot(data=result, x=\"quality_retained_all_reads\", y=\"Information\")\n",
    "ax.set_ylabel(\"Samples Informtion\")\n",
    "ax.set_xlabel(\"Quality controlled all reads count\")\n",
    "plt.xticks(rotation=30, horizontalalignment=\"center\")\n",
    "plt.savefig(os.path.join(outpath, \"quality_controlled_all_reads_count.svg\"))\n",
    "plt.savefig(os.path.join(outpath, \"quality_controlled_all_reads_count.png\"))\n",
    "plt.show()"
   ]
  },
  {
   "cell_type": "markdown",
   "metadata": {},
   "source": [
    "## Number of QC host reads vs samples information"
   ]
  },
  {
   "cell_type": "code",
   "execution_count": null,
   "metadata": {},
   "outputs": [],
   "source": [
    "ax = sns.barplot(data=result, x=\"quality_retained_hosts_reads\", y=\"Information\")\n",
    "ax.set_ylabel(\"Samples Informtion\")\n",
    "ax.set_xlabel(\"Quality controlled host reads count\")\n",
    "plt.xticks(rotation=30, horizontalalignment=\"center\")\n",
    "plt.savefig(os.path.join(outpath, \"quality_controlled_host_reads_count.svg\"))\n",
    "plt.savefig(os.path.join(outpath, \"quality_controlled_host_reads_count.png\"))\n",
    "plt.show()"
   ]
  },
  {
   "cell_type": "markdown",
   "metadata": {},
   "source": [
    "## Violin Plots"
   ]
  },
  {
   "cell_type": "markdown",
   "metadata": {},
   "source": [
    "### for VFs vs Enrichment"
   ]
  },
  {
   "cell_type": "code",
   "execution_count": null,
   "metadata": {},
   "outputs": [],
   "source": [
    "ax = sns.violinplot(data=result, x=\"Enrichment\", y=\"vfs_count\")\n",
    "ax.set_title(\"VFs count vs Pathogen Enrichment\")\n",
    "ax.set_ylabel(\"VFs Count\")\n",
    "plt.savefig(os.path.join(outpath, \"violin_plot_vfs_count_vs_enrichment.svg\"))\n",
    "plt.savefig(os.path.join(outpath, \"violin_plot_vfs_count_vs_enrichment.png\"))\n",
    "plt.show()"
   ]
  },
  {
   "cell_type": "markdown",
   "metadata": {},
   "source": [
    "### for AMRS vs Enrichment\n"
   ]
  },
  {
   "cell_type": "code",
   "execution_count": null,
   "metadata": {},
   "outputs": [],
   "source": [
    "ax = sns.violinplot(data=result, x=\"Enrichment\", y=\"amrs_count\")\n",
    "ax.set_title(\"AMRs count vs Pathogen Enrichment\")\n",
    "ax.set_ylabel(\"AMRs Count\")\n",
    "plt.savefig(os.path.join(outpath, \"violin_plot_amrs_count_vs_enrichment.svg\"))\n",
    "plt.savefig(os.path.join(outpath, \"violin_plot_amrs_count_vs_enrichment.png\"))\n",
    "plt.show()"
   ]
  },
  {
   "cell_type": "markdown",
   "metadata": {},
   "source": [
    "### for QC Hosts Removed Reads Percentages vs Deplition"
   ]
  },
  {
   "cell_type": "code",
   "execution_count": null,
   "metadata": {},
   "outputs": [],
   "source": [
    "ax = sns.violinplot(data=result, x=\"Deplition\", y=\"removed_hosts_percentage\")\n",
    "ax.set_title(\"Reomoved QC Hosts Reads Percentages vs Chicken Deplition\")\n",
    "ax.set_ylabel(\"Reomoved QC Hosts Reads %\")\n",
    "plt.savefig(os.path.join(outpath, \"violin_plot_removed_hosts_percentage_vs_deplition.svg\"))\n",
    "plt.savefig(os.path.join(outpath, \"violin_plot_removed_hosts_percentage_vs_deplition.png\"))\n",
    "plt.show()"
   ]
  },
  {
   "cell_type": "markdown",
   "metadata": {},
   "source": [
    "### No. of QC Chicken reads vs Deplition"
   ]
  },
  {
   "cell_type": "code",
   "execution_count": null,
   "metadata": {},
   "outputs": [],
   "source": [
    "ax = sns.violinplot(data=result, x=\"Deplition\", y=\"quality_retained_hosts_reads\")\n",
    "ax.set_title(\"Number of QC Hosts Reads vs Chicken Deplition\")\n",
    "ax.set_ylabel(\"Number of QC Hosts Reads\")\n",
    "plt.savefig(os.path.join(outpath, \"violin_plot_removed_hosts_reads_count_vs_deplition.svg\"))\n",
    "plt.savefig(os.path.join(outpath, \"violin_plot_removed_hosts_reads_count_vs_deplition.png\"))\n",
    "plt.show()"
   ]
  },
  {
   "cell_type": "markdown",
   "metadata": {},
   "source": [
    "### No. of QC Total Reads vs Deplition"
   ]
  },
  {
   "cell_type": "code",
   "execution_count": null,
   "metadata": {},
   "outputs": [],
   "source": [
    "ax = sns.violinplot(data=result, x=\"Deplition\", y=\"quality_retained_all_reads\")\n",
    "ax.set_title(\"Number of QC Total Reads vs Chicken Deplition\")\n",
    "ax.set_ylabel(\"Number of QC Total Reads\")\n",
    "plt.savefig(os.path.join(outpath, \"violin_plot_QC total_reads_count_vs_deplition.svg\"))\n",
    "plt.savefig(os.path.join(outpath, \"violin_plot_QC total_reads_count_vs_deplition.png\"))\n",
    "plt.show()"
   ]
  },
  {
   "cell_type": "markdown",
   "metadata": {},
   "source": [
    "## Scattered Plot"
   ]
  },
  {
   "cell_type": "markdown",
   "metadata": {},
   "source": [
    "### VFs and AMRs Counts vs CT Value"
   ]
  },
  {
   "cell_type": "code",
   "execution_count": null,
   "metadata": {},
   "outputs": [],
   "source": [
    "selection = selection.dropna(subset = [\"amrs_count\",\"vfs_count\"])\n",
    "#selection.set_index([\"Enrichment\"], drop=True, inplace = True)\n",
    "\n",
    "ax = selection.plot(kind='scatter', x='CT', y='amrs_count', color='r', marker='v', s=25, label=\"AMR\")    \n",
    "selection.plot.scatter(\n",
    "                x = 'CT',\n",
    "                y = 'vfs_count',\n",
    "                ax=ax, label=\"VFs\")\n",
    "ax.set_ylabel(\"# of VFs or AMR\")\n",
    "ax.set_xlabel(\"CT\")\n",
    "plt.savefig(os.path.join(outpath, \"scattered_plot_vfs_amrs_counts_vs_ct.svg\"))\n",
    "plt.savefig(os.path.join(outpath, \"scattered_plot_vfs_amrs_counts_vs_ct.png\"))\n",
    "plt.show()"
   ]
  },
  {
   "cell_type": "markdown",
   "metadata": {},
   "source": [
    "### VFs and AMRs Counts vs CFU value"
   ]
  },
  {
   "cell_type": "code",
   "execution_count": null,
   "metadata": {},
   "outputs": [],
   "source": [
    "ax = selection.plot(kind='scatter', x='CFU', y='amrs_count', color='r', marker='v', s=25, label=\"AMR\")    \n",
    "selection.plot.scatter(\n",
    "                x = 'CFU',\n",
    "                y = 'vfs_count',\n",
    "                ax=ax, label=\"VFs\")\n",
    "ax.set_ylabel(\"# of VFs or AMR\")\n",
    "ax.set_xlabel(\"CFU\")\n",
    "ax.set_xscale('log')\n",
    "plt.savefig(os.path.join(outpath, \"scattered_plot_vfs_amrs_counts_vs_cfu.svg\"))\n",
    "plt.savefig(os.path.join(outpath, \"scattered_plot_vfs_amrs_counts_vs_cfu.png\"))\n",
    "plt.show()"
   ]
  },
  {
   "cell_type": "markdown",
   "metadata": {},
   "source": [
    "## HeatMap"
   ]
  },
  {
   "cell_type": "code",
   "execution_count": null,
   "metadata": {},
   "outputs": [],
   "source": [
    "import scipy\n",
    "heatmap_db\n",
    "sns.set(font_scale=1)\n",
    "g = sns.clustermap(heatmap_db, cmap=\"Reds\", xticklabels=True, row_cluster=True, figsize=(15,15), cbar_pos=(0.01, .05, .02, .3), linewidths=0.5)\n",
    "ax = g.ax_heatmap\n",
    "ax.set_ylabel(\"Pathogenic Genes\")\n",
    "ax.set_xlabel(\"Samples\")\n",
    "# fig = g.get_figure()\n",
    "plt.savefig(os.path.join(outpath, \"clustermap_pathogenic_genes_vs_samples.svg\"))\n",
    "plt.savefig(os.path.join(outpath, \"clustermap_pathogenic_genes_vs_samples.png\"))"
   ]
  }
 ],
 "metadata": {
  "kernelspec": {
   "display_name": "Python 3",
   "language": "python",
   "name": "python3"
  },
  "language_info": {
   "codemirror_mode": {
    "name": "ipython",
    "version": 3
   },
   "file_extension": ".py",
   "mimetype": "text/x-python",
   "name": "python",
   "nbconvert_exporter": "python",
   "pygments_lexer": "ipython3",
   "version": "3.11.4"
  }
 },
 "nbformat": 4,
 "nbformat_minor": 4
}
