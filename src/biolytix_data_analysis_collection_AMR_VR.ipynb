{
 "cells": [
  {
   "cell_type": "code",
   "execution_count": 2,
   "metadata": {},
   "outputs": [
    {
     "name": "stderr",
     "output_type": "stream",
     "text": [
      "WARNING: pip is being invoked by an old script wrapper. This will fail in a future version of pip.\n",
      "Please see https://github.com/pypa/pip/issues/5599 for advice on fixing the underlying issue.\n",
      "To avoid this problem you can invoke Python with '-m pip' instead of running pip directly.\n"
     ]
    },
    {
     "name": "stdout",
     "output_type": "stream",
     "text": [
      "Requirement already satisfied: openpyxl in /home/nasr/miniconda3/envs/jupyterlab/lib/python3.9/site-packages (3.1.2)\n",
      "Requirement already satisfied: et-xmlfile in /home/nasr/miniconda3/envs/jupyterlab/lib/python3.9/site-packages (from openpyxl) (1.1.0)\n"
     ]
    },
    {
     "data": {
      "text/plain": [
       "0"
      ]
     },
     "execution_count": 2,
     "metadata": {},
     "output_type": "execute_result"
    }
   ],
   "source": [
    "from bioblend.galaxy import GalaxyInstance\n",
    "import pandas as pd\n",
    "from io import StringIO\n",
    "import os\n",
    "import requests\n",
    "import pip\n",
    "pip.main([\"install\", \"openpyxl\"])"
   ]
  },
  {
   "attachments": {},
   "cell_type": "markdown",
   "metadata": {},
   "source": [
    "# Add galaxy API key\n",
    "Add `GALAXY_API_KEY` from `https://usegalaxy.eu/user/api_key` via `export GALAXY_API_KEY=\"<key>\"` or `%env  GALAXY_API_KEY=<key>` in jupyter"
   ]
  },
  {
   "cell_type": "code",
   "execution_count": 3,
   "metadata": {},
   "outputs": [
    {
     "name": "stdout",
     "output_type": "stream",
     "text": [
      "env: GALAXY_API_KEY=88c98d1c08f608ace9cbf5fd766eda96\n"
     ]
    }
   ],
   "source": [
    "%env GALAXY_API_KEY="
   ]
  },
  {
   "attachments": {},
   "cell_type": "markdown",
   "metadata": {},
   "source": [
    "# Biolytix Data"
   ]
  },
  {
   "attachments": {},
   "cell_type": "markdown",
   "metadata": {},
   "source": [
    "## Collection of AMR, VR counts"
   ]
  },
  {
   "cell_type": "code",
   "execution_count": 5,
   "metadata": {},
   "outputs": [],
   "source": [
    "def get_summary_of_collection(gi, collection_name, history_id, column_name):\n",
    "    \"\"\"\n",
    "    Collects the counts of datasets in a collection\n",
    "    \"\"\"\n",
    "\n",
    "    datasets = gi.datasets.get_datasets(name = collection_name, history_id = history_id)\n",
    "\n",
    "    #print(datasets)\n",
    "\n",
    "    #fetch collection by name\n",
    "    if len(datasets) > 1:\n",
    "        print(\"too many datasets with that name\")\n",
    "\n",
    "    for dataset in datasets:\n",
    "        if dataset['history_content_type']=='dataset_collection': #get only collections\n",
    "            if dataset['job_state_summary']['all_jobs'] == dataset['job_state_summary']['ok']: #get only collections where all jobs are ok\n",
    "                dataset_collection_id = dataset[\"id\"]\n",
    "\n",
    "    look_up = {}\n",
    "    # get data of the elements in the collection\n",
    "    collection = gi.dataset_collections.show_dataset_collection(dataset_collection_id = dataset_collection_id)\n",
    "    for element in collection['elements']:\n",
    "\n",
    "        element_name = element['element_identifier']\n",
    "        element_id = element['object']['id']\n",
    "        data = gi.datasets.download_dataset(element_id, maxwait = 3)\n",
    "        df = pd.read_csv(StringIO(data.decode(\"utf-8\")), sep=\"\\t\")\n",
    "\n",
    "        look_up[element_name] = len(df)\n",
    "        print(element_name, len(df))\n",
    "\n",
    "    df = pd.DataFrame(look_up.items())\n",
    "    df.set_index(0, inplace=True)\n",
    "    df.index.name = \"Name\"\n",
    "    df.columns = [column_name]\n",
    "\n",
    "    return(df)    "
   ]
  },
  {
   "attachments": {},
   "cell_type": "markdown",
   "metadata": {},
   "source": [
    "## Get df for AMR and VF"
   ]
  },
  {
   "cell_type": "code",
   "execution_count": 6,
   "metadata": {},
   "outputs": [
    {
     "name": "stdout",
     "output_type": "stream",
     "text": [
      "too many datasets with that name\n",
      "Spike1Barcode10 121\n",
      "Spike1Barcode11 60\n",
      "Spike1Barcode12 0\n",
      "Spike1Barcode13 0\n",
      "Spike1Barcode14 0\n",
      "Spike1Barcode15 0\n",
      " Spike2Barcode10 135\n",
      "Spike2Barcode11 97\n",
      "Spike2Barcode12 77\n",
      "Spike2Barcode13 0\n",
      "Spike2Barcode14 0\n",
      "Spike2Barcode15 0\n",
      "Spike2bBarcode10 175\n",
      "Spike2bBarcode11 97\n",
      "Spike2bBarcode12 84\n",
      "Spike2bBarcode13 0\n",
      "Spike2bBarcode14 0\n",
      "Spike2bBarcode15 0\n",
      "Spike2bUnclassified 80\n",
      "Spike3Barcode11 0\n",
      "Spike3Barcode13 0\n",
      "Spike3Barcode14 0\n",
      "Spike3Barcode15 0\n",
      "Spike3Unclassified 0\n",
      "Spike3bBarcode10 25\n",
      "Spike3bBarcode12 70\n",
      "Spike3bBarcode11 79\n",
      "Spike3bBarcode13 0\n",
      "Spike3bBarcode14 0\n",
      "Spike3bUnclassified 0\n",
      "Spike3bBarcode15 0\n",
      "Spike4Barcode01 69\n",
      "Spike4Barcode02 0\n",
      "Spike4Barcode03 0\n",
      "Spike4Barcode04 0\n",
      "Spike4Barcode05 0\n",
      "Spike4Barcode07 0\n",
      "Spike4Barcode08 0\n",
      "Spike4Barcode10 0\n",
      "Spike4Barcode11 0\n",
      "Spike4Barcode12 0\n",
      "Spike4Barcode13 0\n",
      "Spike4Barcode14 0\n",
      "Spike4Barcode15 0\n",
      "Spike4Barcode16 0\n",
      "Spike4Unclassified 0\n",
      "too many datasets with that name\n",
      "Spike1Barcode10 5\n",
      "Spike1Barcode11 0\n",
      "Spike1Barcode12 0\n",
      "Spike1Barcode13 0\n",
      "Spike1Barcode14 0\n",
      "Spike1Barcode15 0\n",
      " Spike2Barcode10 6\n",
      "Spike2Barcode11 0\n",
      "Spike2Barcode12 0\n",
      "Spike2Barcode13 0\n",
      "Spike2Barcode14 0\n",
      "Spike2Barcode15 0\n",
      "Spike2bBarcode10 4\n",
      "Spike2bBarcode11 0\n",
      "Spike2bBarcode12 0\n",
      "Spike2bBarcode13 0\n",
      "Spike2bBarcode14 0\n",
      "Spike2bBarcode15 0\n",
      "Spike2bUnclassified 5\n",
      "Spike3Barcode11 0\n",
      "Spike3Barcode13 0\n",
      "Spike3Barcode14 0\n",
      "Spike3Barcode15 0\n",
      "Spike3Unclassified 0\n",
      "Spike3bBarcode10 0\n",
      "Spike3bBarcode12 0\n",
      "Spike3bBarcode11 0\n",
      "Spike3bBarcode13 0\n",
      "Spike3bBarcode14 0\n",
      "Spike3bUnclassified 0\n",
      "Spike3bBarcode15 0\n",
      "Spike4Barcode01 3\n",
      "Spike4Barcode02 3\n",
      "Spike4Barcode03 0\n",
      "Spike4Barcode04 0\n",
      "Spike4Barcode05 0\n",
      "Spike4Barcode07 0\n",
      "Spike4Barcode08 0\n",
      "Spike4Barcode10 0\n",
      "Spike4Barcode11 0\n",
      "Spike4Barcode12 0\n",
      "Spike4Barcode13 0\n",
      "Spike4Barcode14 0\n",
      "Spike4Barcode15 0\n",
      "Spike4Barcode16 0\n",
      "Spike4Unclassified 0\n"
     ]
    }
   ],
   "source": [
    "gi = GalaxyInstance(url='https://usegalaxy.eu/', key=os.environ['GALAXY_API_KEY'])\n",
    "\n",
    "collection_name = \"VFs of genes Identified by VFDB\"\n",
    "history_id = \"a90a5dd2a4c17493\"\n",
    "column_name = \"VFs\"\n",
    "\n",
    "VF_df = get_summary_of_collection(gi, collection_name, history_id, column_name)\n",
    "\n",
    "collection_name = \"AMR Identifiied by NCBI\"\n",
    "history_id = \"a90a5dd2a4c17493\"\n",
    "column_name = \"AMR\"\n",
    "\n",
    "AMR_df = get_summary_of_collection(gi, collection_name, history_id, column_name)"
   ]
  },
  {
   "cell_type": "code",
   "execution_count": 7,
   "metadata": {},
   "outputs": [
    {
     "name": "stdout",
     "output_type": "stream",
     "text": [
      "                     VFs  AMR\n",
      "Name                         \n",
      "Spike1Barcode10      121    5\n",
      "Spike1Barcode11       60    0\n",
      "Spike1Barcode12        0    0\n",
      "Spike1Barcode13        0    0\n",
      "Spike1Barcode14        0    0\n",
      "Spike1Barcode15        0    0\n",
      " Spike2Barcode10     135    6\n",
      "Spike2Barcode11       97    0\n",
      "Spike2Barcode12       77    0\n",
      "Spike2Barcode13        0    0\n",
      "Spike2Barcode14        0    0\n",
      "Spike2Barcode15        0    0\n",
      "Spike2bBarcode10     175    4\n",
      "Spike2bBarcode11      97    0\n",
      "Spike2bBarcode12      84    0\n",
      "Spike2bBarcode13       0    0\n",
      "Spike2bBarcode14       0    0\n",
      "Spike2bBarcode15       0    0\n",
      "Spike2bUnclassified   80    5\n",
      "Spike3Barcode11        0    0\n",
      "Spike3Barcode13        0    0\n",
      "Spike3Barcode14        0    0\n",
      "Spike3Barcode15        0    0\n",
      "Spike3Unclassified     0    0\n",
      "Spike3bBarcode10      25    0\n",
      "Spike3bBarcode12      70    0\n",
      "Spike3bBarcode11      79    0\n",
      "Spike3bBarcode13       0    0\n",
      "Spike3bBarcode14       0    0\n",
      "Spike3bUnclassified    0    0\n",
      "Spike3bBarcode15       0    0\n",
      "Spike4Barcode01       69    3\n",
      "Spike4Barcode02        0    3\n",
      "Spike4Barcode03        0    0\n",
      "Spike4Barcode04        0    0\n",
      "Spike4Barcode05        0    0\n",
      "Spike4Barcode07        0    0\n",
      "Spike4Barcode08        0    0\n",
      "Spike4Barcode10        0    0\n",
      "Spike4Barcode11        0    0\n",
      "Spike4Barcode12        0    0\n",
      "Spike4Barcode13        0    0\n",
      "Spike4Barcode14        0    0\n",
      "Spike4Barcode15        0    0\n",
      "Spike4Barcode16        0    0\n",
      "Spike4Unclassified     0    0\n"
     ]
    }
   ],
   "source": [
    "frames = [VF_df, AMR_df]\n",
    "merged_df = pd.concat(frames, axis = 1)\n",
    "\n",
    "#from IPython.core.display import HTML\n",
    "print(merged_df.to_string())\n",
    "\n"
   ]
  },
  {
   "attachments": {},
   "cell_type": "markdown",
   "metadata": {},
   "source": [
    "## Map with metadata"
   ]
  },
  {
   "cell_type": "code",
   "execution_count": 8,
   "metadata": {},
   "outputs": [
    {
     "name": "stdout",
     "output_type": "stream",
     "text": [
      "                       VFs  AMR Sample Barcode Number DSM-Number  bx-number  Lot-Number Data Sequencing Source Sequencing Date                                                                              Information                                 Expected Strain Deplition   CT Value           CFU Enrichment   Medium  Galaxy Analysis Date  History Link                                                                                                                                                                                                                                                                                                                                                                                                           Comments\n",
      "Name                                                                                                                                                                                                                                                                                                                                                                                                                                                                                                                                                                                                                                                                                                                                                                                 \n",
      "Spike1Barcode10      121.0  5.0    S01     Barcode 10    DSM 554  3042821.0       404.0               Biolytix      19.06.2022                                     Salmonella enterica subsp. Enterica spike+enrichment             Salmonella enterica subsp. Enterica       NaN        NaN           NaN        Yes  Chicken                   NaN           NaN                                                                                                                                                                                                                                                                                                                                                                                                                NaN\n",
      "Spike1Barcode11       60.0  0.0    S02     Barcode 11   DSM 9221  3042819.0       517.0               Biolytix      19.06.2022                                     Salmonella enterica subsp. Houtenae spike+enrichment             Salmonella enterica subsp. Houtenae       NaN  24.000000           NaN        Yes  Chicken                   NaN           NaN                                                                                                                                                                                                                                                                                                                                                                                                                NaN\n",
      "Spike1Barcode12        0.0  0.0    S03     Barcode 12   DSM 9220  3042820.0       116.0               Biolytix      19.06.2022                                      Salmonella enterica subsp. Salamae spike+enrichment              Salmonella enterica subsp. Salamae       NaN  19.000000           NaN        Yes  Chicken                   NaN           NaN                                                                                                                                                                                                                                                                                                                                                                                                                NaN\n",
      "Spike1Barcode13        0.0  0.0    S04     Barcode 13    DSM 554  3042821.0       404.0               Biolytix      19.06.2022                                                Salmonella enterica subsp. Enterica spike             Salmonella enterica subsp. Enterica       NaN        NaN           NaN         No  Chicken                   NaN           NaN                                                                                                                                                                                                                                                                                                                                                                                                                NaN\n",
      "Spike1Barcode14        0.0  0.0    S05     Baecode 14   DSM 9221  3042819.0       517.0               Biolytix      19.06.2022                                                Salmonella enterica subsp. Houtenae spike             Salmonella enterica subsp. Houtenae       NaN  27.000000           NaN         No  Chicken                   NaN           NaN                                                                                                                                                                                                                                                                                                                                                                                                                NaN\n",
      "Spike1Barcode15        0.0  0.0    S06     Barcode 15   DSM 9220  3042820.0       116.0               Biolytix      19.06.2022                                                 Salmonella enterica subsp. Salamae spike              Salmonella enterica subsp. Salamae       NaN  29.000000           NaN         No  Chicken                   NaN           NaN                                                                                                                                                                                                                                                                                                                                                                                                                NaN\n",
      " Spike2Barcode10     135.0  6.0    S07     Barcode 10    DSM 554  3042821.0       404.0               Biolytix      14.07.2022                                     Salmonella enterica subsp. Enterica spike+enrichment             Salmonella enterica subsp. Enterica       NaN  13.000000  1.050000e+12        Yes  Chicken                   NaN           NaN                                                                                                                                                                                                                                                                                                                                                                                                                NaN\n",
      "Spike2Barcode11       97.0  0.0    S08     Barcode 11   DSM 9221  3042819.0       517.0               Biolytix      14.07.2022                                     Salmonella enterica subsp. Houtenae spike+enrichment             Salmonella enterica subsp. Houtenae       NaN  21.000000  1.110000e+09        Yes  Chicken                   NaN           NaN                                                                                                                                                                                                                                                                                                                                                                                                                NaN\n",
      "Spike2Barcode12       77.0  0.0    S09     Barcode 12   DSM 9220  3042820.0       116.0               Biolytix      14.07.2022                                      Salmonella enterica subsp. Salamae spike+enrichment              Salmonella enterica subsp. Salamae       NaN  18.000000  9.000000e+07        Yes  Chicken                   NaN           NaN                                                                                                                                                                                                                                                                                                                                                                                                                NaN\n",
      "Spike2Barcode13        0.0  0.0    S10     Barcode 13    DSM 554  3042821.0       404.0               Biolytix      14.07.2022                                                Salmonella enterica subsp. Enterica spike             Salmonella enterica subsp. Enterica       NaN  28.000000  1.200000e+06         No  Chicken                   NaN           NaN                                                                                                                                                                                                                                                                                                                                                                                                                NaN\n",
      "Spike2Barcode14        0.0  0.0    S11     Baecode 14   DSM 9221  3042819.0       517.0               Biolytix      14.07.2022                                                Salmonella enterica subsp. Houtenae spike             Salmonella enterica subsp. Houtenae       NaN  28.000000  6.800000e+04         No  Chicken                   NaN           NaN                                                                                                                                                                                                                                                                                                                                                                                                                NaN\n",
      "Spike2Barcode15        0.0  0.0    S12     Barcode 15   DSM 9220  3042820.0       116.0               Biolytix      14.07.2022                                                 Salmonella enterica subsp. Salamae spike              Salmonella enterica subsp. Salamae       NaN  30.000000  2.400000e+04         No  Chicken                   NaN           NaN                                                                                                                                                                                                                                                                                                                                                                                                                NaN\n",
      "Spike2bBarcode10     175.0  4.0    S13     Barcode 10    DSM 554  3042821.0       404.0               Biolytix      20.07.2022                                     Salmonella enterica subsp. Enterica spike+enrichment             Salmonella enterica subsp. Enterica       NaN  13.000000  1.050000e+12        Yes  Chicken                   NaN           NaN                                                                                                                                                                                                                                                                                                                                                                                                                NaN\n",
      "Spike2bBarcode11      97.0  0.0    S14     Barcode 11   DSM 9221  3042819.0       517.0               Biolytix      20.07.2022                                     Salmonella enterica subsp. Houtenae spike+enrichment             Salmonella enterica subsp. Houtenae       NaN  21.000000  1.110000e+09        Yes  Chicken                   NaN           NaN                                                                                                                                                                                                                                                                                                                                                                                                                NaN\n",
      "Spike2bBarcode12      84.0  0.0    S15     Barcode 12   DSM 9220  3042820.0       116.0               Biolytix      20.07.2022                                      Salmonella enterica subsp. Salamae spike+enrichment              Salmonella enterica subsp. Salamae       NaN  18.000000  9.000000e+07        Yes  Chicken                   NaN           NaN                                                                                                                                                                                                                                                                                                                                                                                                                NaN\n",
      "Spike2bBarcode13       0.0  0.0    S16     Barcode 13    DSM 554  3042821.0       404.0               Biolytix      20.07.2022                                                Salmonella enterica subsp. Enterica spike             Salmonella enterica subsp. Enterica       NaN  28.000000  1.200000e+06         No  Chicken                   NaN           NaN                                                                                                                                                                                                                                                                                                                                                                                                                NaN\n",
      "Spike2bBarcode14       0.0  0.0    S17     Baecode 14   DSM 9221  3042819.0       517.0               Biolytix      20.07.2022                                                Salmonella enterica subsp. Houtenae spike             Salmonella enterica subsp. Houtenae       NaN  28.000000  6.800000e+04         No  Chicken                   NaN           NaN                                                                                                                                                                                                                                                                                                                                                                                                                NaN\n",
      "Spike2bBarcode15       0.0  0.0    S18     Barcode 15   DSM 9220  3042820.0       116.0               Biolytix      20.07.2022                                                 Salmonella enterica subsp. Salamae spike              Salmonella enterica subsp. Salamae       NaN  30.000000  2.400000e+04         No  Chicken                   NaN           NaN                                                                                                                                                                                                                                                                                                                                                                                                                NaN\n",
      "Spike2bUnclassified   80.0  5.0    S19   Unclassified        NaN        NaN         NaN               Biolytix      20.07.2022                                                                                      NaN                                             NaN       NaN        NaN           NaN        NaN  Chicken                   NaN           NaN                                                                                                                                                                                                                                                                                                                                                                                                                NaN\n",
      "Spike3Barcode11        0.0  0.0    S21     Barcode 11   DSM 9221  3042819.0       517.0               Biolytix      18.08.2022                   Salmonella enterica subsp. Houtenae spike+enrichment+Chicken Depletion             Salmonella enterica subsp. Houtenae       Yes  21.000000  1.110000e+09        Yes  Chicken                   NaN           NaN                                                                                                                                                                                                                                                                                                                                                                                                                NaN\n",
      "Spike3Barcode13        0.0  0.0    S23     Barcode 13    DSM 554  3042821.0       404.0               Biolytix      18.08.2022                              Salmonella enterica subsp. Enterica spike+Chicken Depletion             Salmonella enterica subsp. Enterica       Yes  28.000000  1.200000e+06         No  Chicken                   NaN           NaN                                                                                                                                                                                                                                                                                                                                                                                                                NaN\n",
      "Spike3Barcode14        0.0  0.0    S24     Baecode 14   DSM 9221  3042819.0       517.0               Biolytix      18.08.2022                              Salmonella enterica subsp. Houtenae spike+Chicken Depletion             Salmonella enterica subsp. Houtenae       Yes  28.000000  6.800000e+04         No  Chicken                   NaN           NaN                                                                                                                                                                                                                                                                                                                                                                                                                NaN\n",
      "Spike3Barcode15        0.0  0.0    S25     Barcode 15   DSM 9220  3042820.0       116.0               Biolytix      18.08.2022                               Salmonella enterica subsp. Salamae spike+Chicken Depletion              Salmonella enterica subsp. Salamae       Yes  30.000000  2.400000e+04         No  Chicken                   NaN           NaN                                                                                                                                                                                                                                                                                                                                                                                                                NaN\n",
      "Spike3Unclassified     0.0  0.0    S26   Unclassified        NaN        NaN         NaN               Biolytix      18.08.2022                                                                        Chicken Depletion                                             NaN       Yes        NaN           NaN        NaN  Chicken                   NaN           NaN                                                                                                                                                                                                                                                                                                                                                                                                                NaN\n",
      "Spike3bBarcode10      25.0  0.0    S27     Barcode 10    DSM 554  3042821.0       404.0               Biolytix      18.08.2022           Salmonella enterica subsp. Enterica spike+enrichment+Without Chicken Depletion             Salmonella enterica subsp. Enterica        No  13.000000  1.050000e+12        Yes  Chicken                   NaN           NaN                                                                                                                                                                                During sequencing preferred sequencing salmonella by comparing to the 3 ref seqs (S. houtenea, S. enterica and S. salamea) = enrichment for salmonella sequences,\\n (fastq_pass salmonella spike3-seq salmonella enrichment 220818)\n",
      "Spike3bBarcode12      70.0  0.0    S29     Barcode 12   DSM 9220  3042820.0       116.0               Biolytix      18.08.2022            Salmonella enterica subsp. Salamae spike+enrichment+Without Chicken Depletion              Salmonella enterica subsp. Salamae        No  18.000000  9.000000e+07        Yes  Chicken                   NaN           NaN                                                                                                                                                                                                                                                                                                                                                                                                                NaN\n",
      "Spike3bBarcode11      79.0  0.0    S28     Barcode 11   DSM 9221  3042819.0       517.0               Biolytix      18.08.2022           Salmonella enterica subsp. Houtenae spike+enrichment+Without Chicken Depletion             Salmonella enterica subsp. Houtenae        No  21.000000  1.110000e+09        Yes  Chicken                   NaN           NaN                                                                                                                                                                                                                                                                                                                                                                                                                NaN\n",
      "Spike3bBarcode13       0.0  0.0    S30     Barcode 13    DSM 554  3042821.0       404.0               Biolytix      18.08.2022                      Salmonella enterica subsp. Enterica spike+Without Chicken Depletion             Salmonella enterica subsp. Enterica        No  28.000000  1.200000e+06         No  Chicken                   NaN           NaN                                                                                                                                                                                                                                                                                                                                                                                                                NaN\n",
      "Spike3bBarcode14       0.0  0.0    S31     Baecode 14   DSM 9221  3042819.0       517.0               Biolytix      18.08.2022                      Salmonella enterica subsp. Houtenae spike+Without Chicken Depletion             Salmonella enterica subsp. Houtenae        No  28.000000  6.800000e+04         No  Chicken                   NaN           NaN                                                                                                                                                                                                                                                                                                                                                                                                                NaN\n",
      "Spike3bUnclassified    0.0  0.0    S33   Unclassified        NaN        NaN         NaN               Biolytix      18.08.2022                                                                Without Chicken Depletion                                             NaN        No        NaN           NaN        NaN  Chicken                   NaN           NaN                                                                                                                                                                                                                                                                                                                                                                                                                NaN\n",
      "Spike3bBarcode15       0.0  0.0    S32     Barcode 15   DSM 9220  3042820.0       116.0               Biolytix      18.08.2022                       Salmonella enterica subsp. Salamae spike+Without Chicken Depletion              Salmonella enterica subsp. Salamae        No  30.000000  2.400000e+04         No  Chicken                   NaN           NaN                                                                                                                                                                                                                                                                                                                                                                                                                NaN\n",
      "Spike4Barcode01       69.0  3.0    S34      Barcode01    DSM 554  3042821.0       404.0               Biolytix      30.11.2022  Salmonella enterica subsp. Enterica spike to chicken 1.2x10^6 CFU (1:E+3 dilution step)             Salmonella enterica subsp. Enterica       NaN  15.956588           NaN         No  Chicken                   NaN           NaN  - Preparation of all samples: chicken meat spiked with different CFU of salmonella (for the 3 species),\\n- CFU have been determined by classical microbiology colony counting in different dilutions,\\n- no microbiological enrichment after spiking,\\n- DNA extraction and library prep as in previous experiments,\\n- last 4 samples were mixtures of the three salmonella species in different concentration  \n",
      "Spike4Barcode02        0.0  3.0    S35      Barcode02        NaN        NaN         NaN               Biolytix      30.11.2022  Salmonella enterica subsp. Enterica spike to chicken 2.9x10^5 CFU (1:E+4 dilution step)             Salmonella enterica subsp. Enterica       NaN  18.498361           NaN         No  Chicken                   NaN           NaN                                                                                                                                                                                                                                                                                                                                                                                                                NaN\n",
      "Spike4Barcode03        0.0  0.0    S36      Barcode03        NaN        NaN         NaN               Biolytix      30.11.2022  Salmonella enterica subsp. Enterica spike to chicken 5.3x10^4 CFU (1:E+5 dilution step)             Salmonella enterica subsp. Enterica       NaN  21.711907           NaN         No  Chicken                   NaN           NaN                                                                                                                                                                                                                                                                                                                                                                                                                NaN\n",
      "Spike4Barcode04        0.0  0.0    S37      Barcode04        NaN        NaN         NaN               Biolytix      30.11.2022  Salmonella enterica subsp. Enterica spike to chicken 1.4x10^3 CFU (1:E+6 dilution step)             Salmonella enterica subsp. Enterica       NaN  25.204560           NaN         No  Chicken                   NaN           NaN                                                                                                                                                                                                                                                                                                                                                                                                                NaN\n",
      "Spike4Barcode05        0.0  0.0    S38      Barcode05   DSM 9221  3042819.0       517.0               Biolytix      30.11.2022   Salmonella enterica subsp. Houtenae spike to chicken 6.1x10^5 CFU (1:E3 dilution step)             Salmonella enterica subsp. Houtenae       NaN  24.801300           NaN         No  Chicken                   NaN           NaN                                                                                                                                                                                                                                                                                                                                                                                                                NaN\n",
      "Spike4Barcode07        0.0  0.0    S40      Barcode07        NaN        NaN         NaN               Biolytix      30.11.2022  Salmonella enterica subsp. Houtenae spike to chicken  6.8x10^3 CFU (1:E5 dilution step)             Salmonella enterica subsp. Houtenae       NaN  32.131811           NaN         No  Chicken                   NaN           NaN                                                                                                                                                                                                                                                                                                                                                                                                                NaN\n",
      "Spike4Barcode08        0.0  0.0    S41      Barcode08        NaN        NaN         NaN               Biolytix      30.11.2022    Salmonella enterica subsp. Houtenae spike to chicken  8x10^2 CFU (1:E6 dilution step)             Salmonella enterica subsp. Houtenae       NaN  46.656800           NaN         No  Chicken                   NaN           NaN                                                                                                                                                                                                                                                                                                                                                                                                                NaN\n",
      "Spike4Barcode10        0.0  0.0    S43      Barcode10        NaN        NaN         NaN               Biolytix      30.11.2022    Salmonella enterica subsp. Salamae spike to chicken 2.1x10^3 CFU (1+E4 dilution step)              Salmonella enterica subsp. Salamae       NaN  34.205031           NaN         No  Chicken                   NaN           NaN                                                                                                                                                                                                                                                                                                                                                                                                                NaN\n",
      "Spike4Barcode11        0.0  0.0    S44      Barcode11        NaN        NaN         NaN               Biolytix      30.11.2022    Salmonella enterica subsp. Salamae spike to chicken 2.2x10^2 CFU (1+E5 dilution step)              Salmonella enterica subsp. Salamae       NaN  41.046125           NaN         No  Chicken                   NaN           NaN                                                                                                                                                                                                                                                                                                                                                                                                                NaN\n",
      "Spike4Barcode12        0.0  0.0    S45      Barcode12        NaN        NaN         NaN               Biolytix      30.11.2022          Salmonella enterica subsp. Salamae spike to chicken 10 CFU (1+E6 dilution step)              Salmonella enterica subsp. Salamae       NaN  36.206758           NaN         No  Chicken                   NaN           NaN                                                                                                                                                                                                                                                                                                                                                                                                                NaN\n",
      "Spike4Barcode13        0.0  0.0    S46      Barcode13        NaN        NaN         NaN               Biolytix      30.11.2022          Mix 1 (1:1:10):  1x S.Houtenea + 1x S.enterica + 10x S.Salamae spike to chicken  1x S.Houtenea + 1x S.enterica + 10x S.Salamae        NaN        NaN           NaN         No  Chicken                   NaN           NaN                                                                                                                                                                                                                                                                                                                                                                                                                NaN\n",
      "Spike4Barcode14        0.0  0.0    S47      Barcode14        NaN        NaN         NaN               Biolytix      30.11.2022          Mix 2 (1:10:1):  1x S.Houtenea + 10x S.enterica + 1x S.Salamae spike to chicken  1x S.Houtenea + 10x S.enterica + 1x S.Salamae        NaN        NaN           NaN         No  Chicken                   NaN           NaN                                                                                                                                                                                                                                                                                                                                                                                                                NaN\n",
      "Spike4Barcode15        0.0  0.0    S48      Barcode15        NaN        NaN         NaN               Biolytix      30.11.2022          Mix 3 (10:1:1):  10x S.Houtenea + 1x S.enterica + 1x S.Salamae spike to chicken  10x S.Houtenea + 1x S.enterica + 1x S.Salamae        NaN        NaN           NaN         No  Chicken                   NaN           NaN                                                                                                                                                                                                                                                                                                                                                                                                                NaN\n",
      "Spike4Barcode16        0.0  0.0    S49      Barcode16        NaN        NaN         NaN               Biolytix      30.11.2022            Mix 4 (5:5:5):  5x S.Houtenea + 5x S.enterica + 5x S.Salamae spike to chicken    5x S.Houtenea + 5x S.enterica + 5x S.Salamae       NaN        NaN           NaN         No  Chicken                   NaN           NaN                                                                                                                                                                                                                                                                                                                                                                                                                NaN\n",
      "Spike4Unclassified     0.0  0.0    S50   Unclassified        NaN        NaN         NaN               Biolytix      30.11.2022                                                                                      NaN                                             NaN       NaN        NaN           NaN        NaN  Chicken                   NaN           NaN                                                                                                                                                                                                                                                                                                                                                                                                                NaN\n",
      "Spike3Barcode10        NaN  NaN    S20     Barcode 10    DSM 554  3042821.0       404.0               Biolytix      18.08.2022                   Salmonella enterica subsp. Enterica spike+enrichment+Chicken Depletion             Salmonella enterica subsp. Enterica       Yes  13.000000  1.050000e+12        Yes  Chicken                   NaN           NaN                                                                                                                                                                                                 During sequencing depletion of chicken sequences by comparing to the ref seq (gallus gallus) and removing chicken = depletion for chicken sequences,\\n (fastq_pass salmonella spike3-seq chicken depletion 220818)\n",
      "Spike3Barcode12        NaN  NaN    S22     Barcode 12   DSM 9220  3042820.0       116.0               Biolytix      18.08.2022                    Salmonella enterica subsp. Salamae spike+enrichment+Chicken Depletion              Salmonella enterica subsp. Salamae       Yes  18.000000  9.000000e+07        Yes  Chicken                   NaN           NaN                                                                                                                                                                                                                                                                                                                                                                                                                NaN\n",
      "Spike4Barcode06        NaN  NaN    S39      Barcode06        NaN        NaN         NaN               Biolytix      30.11.2022  Salmonella enterica subsp. Houtenae spike to chicken  6.8x10^4 CFU (1:E4 dilution step)             Salmonella enterica subsp. Houtenae       NaN  28.387662           NaN         No  Chicken                   NaN           NaN                                                                                                                                                                                                                                                                                                                                                                                                                NaN\n",
      "Spike4Barcode09        NaN  NaN    S42      Barcode09   DSM 9220  3042820.0       116.0               Biolytix      30.11.2022    Salmonella enterica subsp. Salamae spike to chicken 2.4x10^4 CFU (1+E3 dilution step)              Salmonella enterica subsp. Salamae       NaN  30.973821           NaN         No  Chicken                   NaN           NaN                                                                                                                                                                                                                                                                                                                                                                                                                NaN\n"
     ]
    }
   ],
   "source": [
    "meta_df = pd.read_excel(open('data/FoodbornePathogenDetectionDataAnalysis.xlsx', 'rb'), sheet_name='Biolytix Spiked') \n",
    "meta_df.set_index(\"Galaxy ID\", inplace=True)\n",
    "meta_df.index.name = \"Name\"\n",
    "frames = [merged_df, meta_df]\n",
    "result = pd.concat(frames, axis = 1)\n",
    "# print(len(result.columns))\n",
    "# print(len(meta_df.columns))\n",
    "\n",
    "print(result.to_string())"
   ]
  },
  {
   "attachments": {},
   "cell_type": "markdown",
   "metadata": {},
   "source": [
    "## plot it "
   ]
  },
  {
   "attachments": {},
   "cell_type": "markdown",
   "metadata": {},
   "source": [
    "### Bar plot (Paul's example)"
   ]
  },
  {
   "cell_type": "code",
   "execution_count": 9,
   "metadata": {},
   "outputs": [
    {
     "data": {
      "image/png": "[encoded data removed]",
      "text/plain": [
       "<Figure size 720x432 with 1 Axes>"
      ]
     },
     "metadata": {
      "needs_background": "light"
     },
     "output_type": "display_data"
    }
   ],
   "source": [
    "import matplotlib.pyplot as plt\n",
    "import numpy as np\n",
    "\n",
    "selection = result[(result[\"AMR\"] != 0) | (result[\"VFs\"] != 0)]\n",
    "selection = selection.dropna(subset = [\"AMR\",\"VFs\"])\n",
    "\n",
    "#print(selection[\"Enrichment\"])\n",
    "#print(selection.columns)\n",
    "selection.set_index([\"Enrichment\"], drop=True, inplace = True)\n",
    "#print(selection)\n",
    "selection.plot( kind = \"bar\",\n",
    "                #x = [\"Enrichment\"],\n",
    "                y = [\"AMR\",\"VFs\"], \n",
    "                figsize=(10,6), \n",
    "                )\n",
    "plt.show()"
   ]
  },
  {
   "attachments": {},
   "cell_type": "markdown",
   "metadata": {},
   "source": [
    "### Violin Plot"
   ]
  },
  {
   "attachments": {},
   "cell_type": "markdown",
   "metadata": {},
   "source": [
    "#### for VFs"
   ]
  },
  {
   "cell_type": "code",
   "execution_count": 10,
   "metadata": {},
   "outputs": [
    {
     "data": {
      "image/png": "[encoded data removed]",
      "text/plain": [
       "<Figure size 432x288 with 1 Axes>"
      ]
     },
     "metadata": {
      "needs_background": "light"
     },
     "output_type": "display_data"
    }
   ],
   "source": [
    "import numpy as np\n",
    "import seaborn as sns\n",
    "\n",
    "\n",
    "sns.violinplot(data=result, x=\"Enrichment\", y=\"VFs\")\n",
    "plt.show()"
   ]
  },
  {
   "attachments": {},
   "cell_type": "markdown",
   "metadata": {},
   "source": [
    "#### for AMR"
   ]
  },
  {
   "cell_type": "code",
   "execution_count": 11,
   "metadata": {},
   "outputs": [
    {
     "data": {
      "image/png": "[encoded data removed]",
      "text/plain": [
       "<Figure size 432x288 with 1 Axes>"
      ]
     },
     "metadata": {
      "needs_background": "light"
     },
     "output_type": "display_data"
    }
   ],
   "source": [
    "sns.violinplot(data=result, x=\"Enrichment\", y=\"AMR\")\n",
    "plt.show()"
   ]
  },
  {
   "attachments": {},
   "cell_type": "markdown",
   "metadata": {},
   "source": [
    "### Scatter Plot"
   ]
  },
  {
   "cell_type": "code",
   "execution_count": 12,
   "metadata": {},
   "outputs": [
    {
     "data": {
      "image/png": "[encoded data removed]",
      "text/plain": [
       "<Figure size 432x288 with 1 Axes>"
      ]
     },
     "metadata": {
      "needs_background": "light"
     },
     "output_type": "display_data"
    }
   ],
   "source": [
    "ax = selection.plot(kind='scatter', x='Sample', y='AMR', color='r', label=\"AMR\")    \n",
    "selection.plot.scatter(\n",
    "                x = 'Sample',\n",
    "                y = 'VFs',\n",
    "                ax=ax, label=\"VFs\")\n",
    "ax.set_ylabel(\"# of VFs or AMR\")\n",
    "ax.set_xlabel(\"Sample No.\")\n",
    "plt.show()"
   ]
  },
  {
   "cell_type": "code",
   "execution_count": 13,
   "metadata": {},
   "outputs": [
    {
     "data": {
      "image/png": "[encoded data removed]",
      "text/plain": [
       "<Figure size 432x288 with 1 Axes>"
      ]
     },
     "metadata": {
      "needs_background": "light"
     },
     "output_type": "display_data"
    }
   ],
   "source": [
    "selection = result[(result[\"AMR\"] >= 0) | (result[\"VFs\"] >= 0)]\n",
    "selection = selection.dropna(subset = [\"AMR\",\"VFs\"])\n",
    "selection.set_index([\"Enrichment\"], drop=True, inplace = True)\n",
    "\n",
    "ax = selection.plot(kind='scatter', x='CT Value', y='AMR', color='r', marker='v', s=25, label=\"AMR\")    \n",
    "selection.plot.scatter(\n",
    "                x = 'CT Value',\n",
    "                y = 'VFs',\n",
    "                ax=ax, label=\"VFs\")\n",
    "ax.set_ylabel(\"# of VFs or AMR\")\n",
    "ax.set_xlabel(\"CT\")\n",
    "plt.show()"
   ]
  },
  {
   "cell_type": "code",
   "execution_count": 14,
   "metadata": {},
   "outputs": [
    {
     "data": {
      "image/png": "[encoded data removed]",
      "text/plain": [
       "<Figure size 432x288 with 1 Axes>"
      ]
     },
     "metadata": {
      "needs_background": "light"
     },
     "output_type": "display_data"
    }
   ],
   "source": [
    "ax = selection.plot(kind='scatter', x='CFU', y='AMR', color='r', marker='v', s=25, label=\"AMR\")    \n",
    "selection.plot.scatter(\n",
    "                x = 'CFU',\n",
    "                y = 'VFs',\n",
    "                ax=ax, label=\"VFs\")\n",
    "ax.set_ylabel(\"# of VFs or AMR\")\n",
    "ax.set_xlabel(\"CFU\")\n",
    "plt.show()"
   ]
  },
  {
   "attachments": {},
   "cell_type": "markdown",
   "metadata": {},
   "source": [
    "### Taxonomy Profiling Heatmap -- in biolytix_taxonomy_heatmap_from_collection.ipynb"
   ]
  }
 ],
 "metadata": {
  "kernelspec": {
   "display_name": "galaxy-api",
   "language": "python",
   "name": "python3"
  },
  "language_info": {
   "codemirror_mode": {
    "name": "ipython",
    "version": 3
   },
   "file_extension": ".py",
   "mimetype": "text/x-python",
   "name": "python",
   "nbconvert_exporter": "python",
   "pygments_lexer": "ipython3",
   "version": "3.9.7"
  },
  "orig_nbformat": 4
 },
 "nbformat": 4,
 "nbformat_minor": 2
}
