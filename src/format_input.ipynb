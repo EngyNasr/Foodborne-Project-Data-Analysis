{
 "cells": [
  {
   "cell_type": "code",
   "execution_count": 33,
   "metadata": {},
   "outputs": [],
   "source": [
    "from bioblend.galaxy import GalaxyInstance\n",
    "from bioblend.galaxy import dataset_collections as collections\n",
    "import pandas as pd\n",
    "from io import StringIO\n",
    "import os\n",
    "import requests"
   ]
  },
  {
   "cell_type": "code",
   "execution_count": 19,
   "metadata": {},
   "outputs": [
    {
     "name": "stdout",
     "output_type": "stream",
     "text": [
      "env: GALAXY_API_KEY=cf4092f19ab187b157fea51f97f2791b\n"
     ]
    }
   ],
   "source": [
    "%env GALAXY_API_KEY=cf4092f19ab187b157fea51f97f2791b"
   ]
  },
  {
   "cell_type": "code",
   "execution_count": 20,
   "metadata": {},
   "outputs": [],
   "source": [
    "gi = GalaxyInstance(url='https://usegalaxy.eu/', key=os.environ['GALAXY_API_KEY'])"
   ]
  },
  {
   "attachments": {},
   "cell_type": "markdown",
   "metadata": {},
   "source": [
    "### Get history or create one"
   ]
  },
  {
   "cell_type": "code",
   "execution_count": 38,
   "metadata": {},
   "outputs": [
    {
     "name": "stdout",
     "output_type": "stream",
     "text": [
      "0cea14756c402113\n"
     ]
    }
   ],
   "source": [
    "h_name = 'collection_upload'\n",
    "histories = gi.histories.get_histories(name = h_name)\n",
    "if not histories:\n",
    "    history_params = gi.histories.create_history(h_name)\n",
    "    history_id = history_params[\"id\"]\n",
    "elif len(histories) > 1:\n",
    "    raise ValueError('Too many histories with that name')\n",
    "else:\n",
    "    history_id = histories[0][\"id\"]\n",
    "\n",
    "print(history_id)"
   ]
  },
  {
   "attachments": {},
   "cell_type": "markdown",
   "metadata": {},
   "source": [
    "### Upload files"
   ]
  },
  {
   "cell_type": "code",
   "execution_count": 39,
   "metadata": {},
   "outputs": [],
   "source": [
    "files = os.path.join('collection_param_input/')\n",
    "dataset_ids = {}\n",
    "for file in os.listdir(files):\n",
    "    if '.txt' in file:\n",
    "        file_path = os.path.join(files, file)\n",
    "        dataset = gi.tools.upload_file(file_path, history_id)\n",
    "        dataset_ids[dataset['outputs'][0]['id']] = dataset['outputs'][0]['name']"
   ]
  },
  {
   "attachments": {},
   "cell_type": "markdown",
   "metadata": {},
   "source": [
    "### Create collection"
   ]
  },
  {
   "cell_type": "code",
   "execution_count": 40,
   "metadata": {},
   "outputs": [],
   "source": [
    "elements = []\n",
    "for hid, name in dataset_ids.items():\n",
    "    elements.append(collections.HistoryDatasetElement(name=name, id=hid))\n",
    "\n",
    "collection_response = gi.histories.create_dataset_collection(\n",
    "            history_id=history_id,\n",
    "            collection_description=collections.CollectionDescription(\n",
    "                name=\"MyTestPair\",\n",
    "                type=\"list\",\n",
    "                elements=elements\n",
    "            )\n",
    "    )"
   ]
  }
 ],
 "metadata": {
  "kernelspec": {
   "display_name": "galaxy-api",
   "language": "python",
   "name": "python3"
  },
  "language_info": {
   "codemirror_mode": {
    "name": "ipython",
    "version": 3
   },
   "file_extension": ".py",
   "mimetype": "text/x-python",
   "name": "python",
   "nbconvert_exporter": "python",
   "pygments_lexer": "ipython3",
   "version": "3.7.12"
  },
  "orig_nbformat": 4
 },
 "nbformat": 4,
 "nbformat_minor": 2
}
